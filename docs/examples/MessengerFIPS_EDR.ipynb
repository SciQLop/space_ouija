{
 "cells": [
  {
   "cell_type": "code",
   "execution_count": 1,
   "id": "7621e2a1-8137-40c0-9e82-e202e4033579",
   "metadata": {},
   "outputs": [],
   "source": [
    "from space_ouija.ouija_boards.messenger import load_FIPS_EDR\n",
    "from glob import glob\n",
    "from datetime import datetime\n",
    "import numpy as np\n",
    "import pycdfpp\n",
    "import re\n",
    "from multiprocessing import Pool"
   ]
  },
  {
   "cell_type": "code",
   "execution_count": 2,
   "id": "c6de5a6e-8ebb-4dd6-8cfb-53a30d37a223",
   "metadata": {},
   "outputs": [],
   "source": [
    "START_DT_RE = re.compile(r'\\s+<start_date_time>(?P<start>[T\\d\\:\\.\\-]+)Z</start_date_time>$', flags=re.MULTILINE)\n",
    "def start_datetime(dat_file:str):\n",
    "    xml_file = dat_file.replace(\".DAT\", \".xml\")\n",
    "    return np.datetime64(START_DT_RE.findall(open(xml_file, 'r').read())[0])\n",
    "\n",
    "def build_time_vect(start_dt, met):\n",
    "    return start_dt + (met - met[0]).astype('timedelta64[s]')\n",
    "\n",
    "def to_cdf(dat_file):\n",
    "    edr=load_FIPS_EDR(dat_file)\n",
    "    cdf=pycdfpp.CDF()\n",
    "    cdf.add_variable(\n",
    "        name='Epoch',\n",
    "        values = build_time_vect(start_datetime(dat_file), edr[\"met\"]),\n",
    "        attributes={\n",
    "            'VAR_TYPE':'support_data',\n",
    "        },\n",
    "        compression=pycdfpp.CompressionType.gzip_compression\n",
    "    )\n",
    "    cdf.add_variable(\n",
    "        name='scantype',\n",
    "        values=edr['scantype'],\n",
    "        attributes={\n",
    "            'DEPEND_0':'Epoch',\n",
    "            'VAR_TYPE':'data',\n",
    "            'DISPLAY_TYPE':'time_series',\n",
    "            'CATDESC':\"Indicates the FIPS Scan Mode. =0 Normal Scan =1 High Temp Scan, =2 Burst Scan, =3 Test Scan, =4 Table 4, =5 Table 5, =6 Table 6, =7 Table 7. \",\n",
    "            'LABLAXIS': 'Scan Type'\n",
    "        },\n",
    "        compression=pycdfpp.CompressionType.gzip_compression\n",
    "    )\n",
    "    cdf.add_variable(\n",
    "        name='start_rate',\n",
    "        values=edr['start_rate'],\n",
    "        attributes={\n",
    "            'DEPEND_0':'Epoch',\n",
    "            'VAR_TYPE':'data',\n",
    "            'DISPLAY_TYPE':'spectrogram',\n",
    "            'CATDESC':\"Start rate counter sampled at each Deflection System High Voltage (DSHV) step in the scan.\"\n",
    "        },\n",
    "        compression=pycdfpp.CompressionType.gzip_compression\n",
    "    )\n",
    "    cdf.add_variable(\n",
    "        name='stop_rate',\n",
    "        values=edr['stop_rate'],\n",
    "        attributes={\n",
    "            'DEPEND_0':'Epoch',\n",
    "            'DISPLAY_TYPE':'spectrogram',\n",
    "            'VAR_TYPE':'data',\n",
    "            'CATDESC':\"Stop rate counter sampled at each DSHV step in the scan.\"\n",
    "        },\n",
    "        compression=pycdfpp.CompressionType.gzip_compression\n",
    "    )\n",
    "    cdf.add_variable(\n",
    "        name='valid_evt_rate',\n",
    "        values=edr['valid_evt_rate'],\n",
    "        attributes={\n",
    "            'DEPEND_0':'Epoch',\n",
    "            'DISPLAY_TYPE':'spectrogram',\n",
    "            'VAR_TYPE':'data',\n",
    "            'CATDESC':\"Valid event rate counter sampled at each DSHV step in the scan.\"\n",
    "        },\n",
    "        compression=pycdfpp.CompressionType.gzip_compression\n",
    "    )\n",
    "    cdf.add_variable(\n",
    "        name='proton_rate',\n",
    "        values=edr['proton_rate'],\n",
    "        attributes={\n",
    "            'DEPEND_0':'Epoch',\n",
    "            'DISPLAY_TYPE':'spectrogram',\n",
    "            'VAR_TYPE':'data',\n",
    "            'CATDESC':\"Proton rate counter sampled at each DSHV step in the scan.\"\n",
    "        },\n",
    "        compression=pycdfpp.CompressionType.gzip_compression\n",
    "    )\n",
    "    cdf.add_variable(\n",
    "        name='evt_proc_rate',\n",
    "        values=edr['evt_proc_rate'],\n",
    "        attributes={\n",
    "            'DEPEND_0':'Epoch',\n",
    "            'DISPLAY_TYPE':'spectrogram',\n",
    "            'VAR_TYPE':'data',\n",
    "            'CATDESC':\"Events processed rate counter sampled at each DSHV step in the scan.\"\n",
    "        },\n",
    "        compression=pycdfpp.CompressionType.gzip_compression\n",
    "    )\n",
    "    pycdfpp.save(cdf, dat_file.replace('.DAT', '.cdf').replace(\"_V1\", \"\").replace(\"_V2\", \"\"))"
   ]
  },
  {
   "cell_type": "code",
   "execution_count": 3,
   "id": "4f6e7536-70e8-41a5-929a-af2bce9016eb",
   "metadata": {},
   "outputs": [
    {
     "data": {
      "text/plain": [
       "2269"
      ]
     },
     "execution_count": 3,
     "metadata": {},
     "output_type": "execute_result"
    }
   ],
   "source": [
    "dat_files = glob(\"/home/jeandet/Documents/DATA/Messenger/fips/EDR/data/ALL/*.DAT\")\n",
    "len(dat_files)"
   ]
  },
  {
   "cell_type": "code",
   "execution_count": 4,
   "id": "f5173a14-b231-438b-a78f-5aad5d5289c1",
   "metadata": {},
   "outputs": [],
   "source": [
    "with Pool(32) as p:\n",
    "    p.map(to_cdf, dat_files)"
   ]
  },
  {
   "cell_type": "code",
   "execution_count": null,
   "id": "ae56b571-d77d-4472-bf90-5a1a5820c5da",
   "metadata": {},
   "outputs": [],
   "source": []
  }
 ],
 "metadata": {
  "kernelspec": {
   "display_name": "Python 3 (ipykernel)",
   "language": "python",
   "name": "python3"
  },
  "language_info": {
   "codemirror_mode": {
    "name": "ipython",
    "version": 3
   },
   "file_extension": ".py",
   "mimetype": "text/x-python",
   "name": "python",
   "nbconvert_exporter": "python",
   "pygments_lexer": "ipython3",
   "version": "3.13.3"
  }
 },
 "nbformat": 4,
 "nbformat_minor": 5
}
